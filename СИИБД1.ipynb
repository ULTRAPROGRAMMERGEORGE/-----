{
 "cells": [
  {
   "cell_type": "code",
   "execution_count": 8,
   "metadata": {},
   "outputs": [
    {
     "name": "stdout",
     "output_type": "stream",
     "text": [
      "(5,+infinity)\n"
     ]
    }
   ],
   "source": [
    "x = 23\n",
    "if x >= -5 and x <= 5:\n",
    "    print(\"[-5,5]\")\n",
    "elif x > 5:\n",
    "    print(\"(5,+infinity)\")\n",
    "else:\n",
    "    print(\"(-infinity,-5)\")"
   ]
  },
  {
   "cell_type": "code",
   "execution_count": 1,
   "metadata": {},
   "outputs": [
    {
     "name": "stdout",
     "output_type": "stream",
     "text": [
      "10\n",
      "7\n",
      "4\n",
      "1\n"
     ]
    }
   ],
   "source": [
    "x=10\n",
    "while x >= 1:\n",
    "    print(x)\n",
    "    x -= 3"
   ]
  },
  {
   "cell_type": "code",
   "execution_count": null,
   "metadata": {},
   "outputs": [
    {
     "name": "stdout",
     "output_type": "stream",
     "text": [
      "Имя\n",
      "Фамилия\n",
      "Отчество\n",
      "Возраст\n",
      "Пол\n",
      "Рост\n",
      "Вес\n",
      "Стиль одежды\n"
     ]
    }
   ],
   "source": [
    "human_features = [\n",
    "    \"Имя\", \n",
    "    \"Фамилия\", \n",
    "    \"Отчество\", \n",
    "    \"Возраст\", \n",
    "    \"Пол\", \n",
    "    \"Рост\", \n",
    "    \"Вес\",  \n",
    "    \"Стиль одежды\",\n",
    "]\n",
    "\n",
    "for feature in human_features:\n",
    "    print(feature)"
   ]
  },
  {
   "cell_type": "code",
   "execution_count": 5,
   "metadata": {},
   "outputs": [
    {
     "name": "stdout",
     "output_type": "stream",
     "text": [
      "[2, 3, 4, 5, 6, 7, 8, 9, 10, 11, 12, 13, 14, 15]\n"
     ]
    }
   ],
   "source": [
    "d = list(range(2,16,1))\n",
    "print(d)"
   ]
  },
  {
   "cell_type": "code",
   "execution_count": 9,
   "metadata": {},
   "outputs": [
    {
     "name": "stdout",
     "output_type": "stream",
     "text": [
      "105\n",
      "80\n",
      "55\n",
      "30\n"
     ]
    }
   ],
   "source": [
    "for i in range(105,6,-25):\n",
    "    print(i)"
   ]
  },
  {
   "cell_type": "code",
   "execution_count": null,
   "metadata": {},
   "outputs": [
    {
     "name": "stdout",
     "output_type": "stream",
     "text": [
      "[8, 1, 6, 3, 4, 5, 2, 7, 0, 9]\n"
     ]
    }
   ],
   "source": [
    "k = [0,1,2,3,4,5,6,7,8,9]\n",
    "j=0\n",
    "for i in range(len(k)-1,-1,-1):\n",
    "        if i % 2 == 0:\n",
    "            k[i] = j\n",
    "            j+= 2\n",
    "print(k)"
   ]
  }
 ],
 "metadata": {
  "kernelspec": {
   "display_name": "moonshot",
   "language": "python",
   "name": "moonshot"
  },
  "language_info": {
   "codemirror_mode": {
    "name": "ipython",
    "version": 3
   },
   "file_extension": ".py",
   "mimetype": "text/x-python",
   "name": "python",
   "nbconvert_exporter": "python",
   "pygments_lexer": "ipython3",
   "version": "3.10.15"
  }
 },
 "nbformat": 4,
 "nbformat_minor": 2
}
