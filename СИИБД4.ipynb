{
 "cells": [
  {
   "cell_type": "code",
   "execution_count": null,
   "metadata": {},
   "outputs": [],
   "source": [
    "from numpy import *\n",
    "from numpy.random import *\n",
    "import matplotlib.pyplot as plt\n",
    "delta = 1.0\n",
    "x = linspace(-5,5,11)\n",
    "y = x ** 2+delta*(rand(11)-0.5)\n",
    "x += delta*(rand(11)-0.5)\n"
   ]
  }
 ],
 "metadata": {
  "kernelspec": {
   "display_name": "moonshot",
   "language": "python",
   "name": "moonshot"
  },
  "language_info": {
   "name": "python",
   "version": "3.10.15"
  }
 },
 "nbformat": 4,
 "nbformat_minor": 2
}
